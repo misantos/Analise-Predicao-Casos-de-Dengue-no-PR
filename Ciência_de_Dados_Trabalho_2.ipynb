{
  "nbformat": 4,
  "nbformat_minor": 0,
  "metadata": {
    "colab": {
      "provenance": [],
      "collapsed_sections": []
    },
    "kernelspec": {
      "name": "python3",
      "display_name": "Python 3"
    },
    "language_info": {
      "name": "python"
    }
  },
  "cells": [
    {
      "cell_type": "code",
      "metadata": {
        "id": "h27Qz8smnDa8",
        "colab": {
          "base_uri": "https://localhost:8080/"
        },
        "outputId": "518613ac-d275-472f-976d-1c9a9ec1e027"
      },
      "source": [
        "from google.colab import drive\n",
        "drive.mount('/content/drive')"
      ],
      "execution_count": null,
      "outputs": [
        {
          "output_type": "stream",
          "text": [
            "Drive already mounted at /content/drive; to attempt to forcibly remount, call drive.mount(\"/content/drive\", force_remount=True).\n"
          ],
          "name": "stdout"
        }
      ]
    },
    {
      "cell_type": "markdown",
      "metadata": {
        "id": "nnKW6DdQ_DAn"
      },
      "source": [
        "Alunas: Milena Lucas dos Santos, Raianny Proença de C. Oliveira e Vivian Miwa Fugihara"
      ]
    },
    {
      "cell_type": "markdown",
      "metadata": {
        "id": "OF6DUl3t4Y3v"
      },
      "source": [
        "# Imports"
      ]
    },
    {
      "cell_type": "code",
      "metadata": {
        "id": "MTH7eWniMPPk"
      },
      "source": [
        "import pandas as pd\n",
        "import numpy as np\n",
        "from scipy.spatial import distance\n",
        "from sklearn.metrics.pairwise import euclidean_distances\n",
        "from sklearn.metrics.pairwise import pairwise_distances\n",
        "\n",
        "import matplotlib.pyplot as plt\n",
        "%matplotlib inline\n",
        "import seaborn as sns\n",
        "import plotly.express as pc\n",
        "import plotly.graph_objects as go\n",
        "import folium\n",
        "from folium import plugins\n",
        "\n",
        "import math\n",
        "import itertools\n",
        "import matplotlib.pyplot as plt\n",
        "\n",
        "# configurando um tamanho padrão para as imagens\n",
        "plt.rcParams['figure.figsize'] = 10, 12\n"
      ],
      "execution_count": null,
      "outputs": []
    },
    {
      "cell_type": "markdown",
      "metadata": {
        "id": "icylPCnp4w5X"
      },
      "source": [
        "# Visão Geral"
      ]
    },
    {
      "cell_type": "code",
      "metadata": {
        "id": "yezDb5mA41OO",
        "colab": {
          "base_uri": "https://localhost:8080/",
          "height": 235
        },
        "outputId": "863dc3be-5fad-4ae9-9a5d-af95fbd89f14"
      },
      "source": [
        "features_gerais = pd.read_csv('/content/drive/MyDrive/trabalho1CD/features_cidades.csv', sep = ';', encoding = 'latin-1')\n",
        "features_gerais.head(6)"
      ],
      "execution_count": null,
      "outputs": [
        {
          "output_type": "execute_result",
          "data": {
            "text/html": [
              "<div>\n",
              "<style scoped>\n",
              "    .dataframe tbody tr th:only-of-type {\n",
              "        vertical-align: middle;\n",
              "    }\n",
              "\n",
              "    .dataframe tbody tr th {\n",
              "        vertical-align: top;\n",
              "    }\n",
              "\n",
              "    .dataframe thead th {\n",
              "        text-align: right;\n",
              "    }\n",
              "</style>\n",
              "<table border=\"1\" class=\"dataframe\">\n",
              "  <thead>\n",
              "    <tr style=\"text-align: right;\">\n",
              "      <th></th>\n",
              "      <th>Municípios</th>\n",
              "      <th>População</th>\n",
              "      <th>IDH</th>\n",
              "      <th>Porcentagem de esgotamento</th>\n",
              "      <th>Temperatura média</th>\n",
              "      <th>Total de casos de dengue</th>\n",
              "    </tr>\n",
              "  </thead>\n",
              "  <tbody>\n",
              "    <tr>\n",
              "      <th>0</th>\n",
              "      <td>Cidade Gaucha</td>\n",
              "      <td>12797</td>\n",
              "      <td>0,718</td>\n",
              "      <td>66,40%</td>\n",
              "      <td>23</td>\n",
              "      <td>887</td>\n",
              "    </tr>\n",
              "    <tr>\n",
              "      <th>1</th>\n",
              "      <td>Colombo</td>\n",
              "      <td>24654</td>\n",
              "      <td>0,733</td>\n",
              "      <td>81,30%</td>\n",
              "      <td>18</td>\n",
              "      <td>25</td>\n",
              "    </tr>\n",
              "    <tr>\n",
              "      <th>2</th>\n",
              "      <td>Curitiba</td>\n",
              "      <td>1948626</td>\n",
              "      <td>0,823</td>\n",
              "      <td>96,30%</td>\n",
              "      <td>18</td>\n",
              "      <td>1622</td>\n",
              "    </tr>\n",
              "    <tr>\n",
              "      <th>3</th>\n",
              "      <td>Diamante do Norte</td>\n",
              "      <td>5030</td>\n",
              "      <td>0,723</td>\n",
              "      <td>14,70%</td>\n",
              "      <td>23</td>\n",
              "      <td>784</td>\n",
              "    </tr>\n",
              "    <tr>\n",
              "      <th>4</th>\n",
              "      <td>Dois Vizinhos</td>\n",
              "      <td>41038</td>\n",
              "      <td>0,767</td>\n",
              "      <td>45,80%</td>\n",
              "      <td>21</td>\n",
              "      <td>277</td>\n",
              "    </tr>\n",
              "    <tr>\n",
              "      <th>5</th>\n",
              "      <td>Foz do Iguaçu</td>\n",
              "      <td>258248</td>\n",
              "      <td>0,751</td>\n",
              "      <td>75,30%</td>\n",
              "      <td>22</td>\n",
              "      <td>33975</td>\n",
              "    </tr>\n",
              "  </tbody>\n",
              "</table>\n",
              "</div>"
            ],
            "text/plain": [
              "          Municípios  População  ... Temperatura média Total de casos de dengue\n",
              "0      Cidade Gaucha      12797  ...                23                      887\n",
              "1            Colombo      24654  ...                18                       25\n",
              "2           Curitiba    1948626  ...                18                     1622\n",
              "3  Diamante do Norte       5030  ...                23                      784\n",
              "4      Dois Vizinhos      41038  ...                21                      277\n",
              "5      Foz do Iguaçu     258248  ...                22                    33975\n",
              "\n",
              "[6 rows x 6 columns]"
            ]
          },
          "metadata": {
            "tags": []
          },
          "execution_count": 28
        }
      ]
    },
    {
      "cell_type": "code",
      "metadata": {
        "id": "oGKz6uyO5ERu",
        "colab": {
          "base_uri": "https://localhost:8080/",
          "height": 460
        },
        "outputId": "a70927f1-4ae4-4b65-adad-564c080b8744"
      },
      "source": [
        "features_gerais = features_gerais.set_index('Municípios')\n",
        "features_gerais.drop(['IDH'], axis = 1, inplace=True)\n",
        "features_gerais.drop(['Porcentagem de esgotamento'], axis = 1, inplace=True)\n",
        "organizando_dados = features_gerais.sort_values(by=['Total de casos de dengue'], ascending=False)\n",
        "organizando_dados.style.background_gradient(cmap = 'Reds')"
      ],
      "execution_count": null,
      "outputs": [
        {
          "output_type": "execute_result",
          "data": {
            "text/html": [
              "<style  type=\"text/css\" >\n",
              "#T_ef08727e_a61a_11eb_b8e5_0242ac1c0002row0_col0{\n",
              "            background-color:  #fcad90;\n",
              "            color:  #000000;\n",
              "        }#T_ef08727e_a61a_11eb_b8e5_0242ac1c0002row0_col1,#T_ef08727e_a61a_11eb_b8e5_0242ac1c0002row1_col1,#T_ef08727e_a61a_11eb_b8e5_0242ac1c0002row3_col1,#T_ef08727e_a61a_11eb_b8e5_0242ac1c0002row4_col1,#T_ef08727e_a61a_11eb_b8e5_0242ac1c0002row12_col1,#T_ef08727e_a61a_11eb_b8e5_0242ac1c0002row15_col1{\n",
              "            background-color:  #d52221;\n",
              "            color:  #f1f1f1;\n",
              "        }#T_ef08727e_a61a_11eb_b8e5_0242ac1c0002row0_col2,#T_ef08727e_a61a_11eb_b8e5_0242ac1c0002row5_col0,#T_ef08727e_a61a_11eb_b8e5_0242ac1c0002row6_col1{\n",
              "            background-color:  #67000d;\n",
              "            color:  #f1f1f1;\n",
              "        }#T_ef08727e_a61a_11eb_b8e5_0242ac1c0002row1_col0{\n",
              "            background-color:  #fedfd0;\n",
              "            color:  #000000;\n",
              "        }#T_ef08727e_a61a_11eb_b8e5_0242ac1c0002row1_col2{\n",
              "            background-color:  #9d0d14;\n",
              "            color:  #f1f1f1;\n",
              "        }#T_ef08727e_a61a_11eb_b8e5_0242ac1c0002row2_col0{\n",
              "            background-color:  #fcc4ad;\n",
              "            color:  #000000;\n",
              "        }#T_ef08727e_a61a_11eb_b8e5_0242ac1c0002row2_col1,#T_ef08727e_a61a_11eb_b8e5_0242ac1c0002row8_col1,#T_ef08727e_a61a_11eb_b8e5_0242ac1c0002row9_col1,#T_ef08727e_a61a_11eb_b8e5_0242ac1c0002row10_col1{\n",
              "            background-color:  #aa1016;\n",
              "            color:  #f1f1f1;\n",
              "        }#T_ef08727e_a61a_11eb_b8e5_0242ac1c0002row2_col2{\n",
              "            background-color:  #eb372a;\n",
              "            color:  #f1f1f1;\n",
              "        }#T_ef08727e_a61a_11eb_b8e5_0242ac1c0002row3_col0{\n",
              "            background-color:  #fee8dd;\n",
              "            color:  #000000;\n",
              "        }#T_ef08727e_a61a_11eb_b8e5_0242ac1c0002row3_col2{\n",
              "            background-color:  #fb7555;\n",
              "            color:  #000000;\n",
              "        }#T_ef08727e_a61a_11eb_b8e5_0242ac1c0002row4_col0,#T_ef08727e_a61a_11eb_b8e5_0242ac1c0002row7_col2{\n",
              "            background-color:  #fff1ea;\n",
              "            color:  #000000;\n",
              "        }#T_ef08727e_a61a_11eb_b8e5_0242ac1c0002row4_col2{\n",
              "            background-color:  #feeae0;\n",
              "            color:  #000000;\n",
              "        }#T_ef08727e_a61a_11eb_b8e5_0242ac1c0002row5_col1,#T_ef08727e_a61a_11eb_b8e5_0242ac1c0002row16_col1,#T_ef08727e_a61a_11eb_b8e5_0242ac1c0002row17_col1{\n",
              "            background-color:  #fedbcc;\n",
              "            color:  #000000;\n",
              "        }#T_ef08727e_a61a_11eb_b8e5_0242ac1c0002row5_col2{\n",
              "            background-color:  #ffeee7;\n",
              "            color:  #000000;\n",
              "        }#T_ef08727e_a61a_11eb_b8e5_0242ac1c0002row6_col0,#T_ef08727e_a61a_11eb_b8e5_0242ac1c0002row7_col0,#T_ef08727e_a61a_11eb_b8e5_0242ac1c0002row9_col0,#T_ef08727e_a61a_11eb_b8e5_0242ac1c0002row10_col0,#T_ef08727e_a61a_11eb_b8e5_0242ac1c0002row11_col0,#T_ef08727e_a61a_11eb_b8e5_0242ac1c0002row15_col2,#T_ef08727e_a61a_11eb_b8e5_0242ac1c0002row16_col2,#T_ef08727e_a61a_11eb_b8e5_0242ac1c0002row17_col2,#T_ef08727e_a61a_11eb_b8e5_0242ac1c0002row18_col1,#T_ef08727e_a61a_11eb_b8e5_0242ac1c0002row18_col2{\n",
              "            background-color:  #fff5f0;\n",
              "            color:  #000000;\n",
              "        }#T_ef08727e_a61a_11eb_b8e5_0242ac1c0002row6_col2{\n",
              "            background-color:  #ffefe8;\n",
              "            color:  #000000;\n",
              "        }#T_ef08727e_a61a_11eb_b8e5_0242ac1c0002row7_col1,#T_ef08727e_a61a_11eb_b8e5_0242ac1c0002row11_col1,#T_ef08727e_a61a_11eb_b8e5_0242ac1c0002row13_col1,#T_ef08727e_a61a_11eb_b8e5_0242ac1c0002row14_col1{\n",
              "            background-color:  #f44f39;\n",
              "            color:  #000000;\n",
              "        }#T_ef08727e_a61a_11eb_b8e5_0242ac1c0002row8_col0,#T_ef08727e_a61a_11eb_b8e5_0242ac1c0002row12_col0,#T_ef08727e_a61a_11eb_b8e5_0242ac1c0002row13_col2,#T_ef08727e_a61a_11eb_b8e5_0242ac1c0002row14_col0,#T_ef08727e_a61a_11eb_b8e5_0242ac1c0002row14_col2,#T_ef08727e_a61a_11eb_b8e5_0242ac1c0002row15_col0{\n",
              "            background-color:  #fff4ef;\n",
              "            color:  #000000;\n",
              "        }#T_ef08727e_a61a_11eb_b8e5_0242ac1c0002row8_col2,#T_ef08727e_a61a_11eb_b8e5_0242ac1c0002row9_col2,#T_ef08727e_a61a_11eb_b8e5_0242ac1c0002row18_col0{\n",
              "            background-color:  #fff2eb;\n",
              "            color:  #000000;\n",
              "        }#T_ef08727e_a61a_11eb_b8e5_0242ac1c0002row10_col2,#T_ef08727e_a61a_11eb_b8e5_0242ac1c0002row13_col0{\n",
              "            background-color:  #fff2ec;\n",
              "            color:  #000000;\n",
              "        }#T_ef08727e_a61a_11eb_b8e5_0242ac1c0002row11_col2,#T_ef08727e_a61a_11eb_b8e5_0242ac1c0002row12_col2,#T_ef08727e_a61a_11eb_b8e5_0242ac1c0002row16_col0{\n",
              "            background-color:  #fff4ee;\n",
              "            color:  #000000;\n",
              "        }#T_ef08727e_a61a_11eb_b8e5_0242ac1c0002row17_col0{\n",
              "            background-color:  #fff0e9;\n",
              "            color:  #000000;\n",
              "        }</style><table id=\"T_ef08727e_a61a_11eb_b8e5_0242ac1c0002\" ><thead>    <tr>        <th class=\"blank level0\" ></th>        <th class=\"col_heading level0 col0\" >População</th>        <th class=\"col_heading level0 col1\" >Temperatura média</th>        <th class=\"col_heading level0 col2\" >Total de casos de dengue</th>    </tr>    <tr>        <th class=\"index_name level0\" >Municípios</th>        <th class=\"blank\" ></th>        <th class=\"blank\" ></th>        <th class=\"blank\" ></th>    </tr></thead><tbody>\n",
              "                <tr>\n",
              "                        <th id=\"T_ef08727e_a61a_11eb_b8e5_0242ac1c0002level0_row0\" class=\"row_heading level0 row0\" >Londrina</th>\n",
              "                        <td id=\"T_ef08727e_a61a_11eb_b8e5_0242ac1c0002row0_col0\" class=\"data row0 col0\" >575377</td>\n",
              "                        <td id=\"T_ef08727e_a61a_11eb_b8e5_0242ac1c0002row0_col1\" class=\"data row0 col1\" >22</td>\n",
              "                        <td id=\"T_ef08727e_a61a_11eb_b8e5_0242ac1c0002row0_col2\" class=\"data row0 col2\" >38227</td>\n",
              "            </tr>\n",
              "            <tr>\n",
              "                        <th id=\"T_ef08727e_a61a_11eb_b8e5_0242ac1c0002level0_row1\" class=\"row_heading level0 row1\" >Foz do Iguaçu</th>\n",
              "                        <td id=\"T_ef08727e_a61a_11eb_b8e5_0242ac1c0002row1_col0\" class=\"data row1 col0\" >258248</td>\n",
              "                        <td id=\"T_ef08727e_a61a_11eb_b8e5_0242ac1c0002row1_col1\" class=\"data row1 col1\" >22</td>\n",
              "                        <td id=\"T_ef08727e_a61a_11eb_b8e5_0242ac1c0002row1_col2\" class=\"data row1 col2\" >33975</td>\n",
              "            </tr>\n",
              "            <tr>\n",
              "                        <th id=\"T_ef08727e_a61a_11eb_b8e5_0242ac1c0002level0_row2\" class=\"row_heading level0 row2\" >Maringá</th>\n",
              "                        <td id=\"T_ef08727e_a61a_11eb_b8e5_0242ac1c0002row2_col0\" class=\"data row2 col0\" >430157</td>\n",
              "                        <td id=\"T_ef08727e_a61a_11eb_b8e5_0242ac1c0002row2_col1\" class=\"data row2 col1\" >23</td>\n",
              "                        <td id=\"T_ef08727e_a61a_11eb_b8e5_0242ac1c0002row2_col2\" class=\"data row2 col2\" >24414</td>\n",
              "            </tr>\n",
              "            <tr>\n",
              "                        <th id=\"T_ef08727e_a61a_11eb_b8e5_0242ac1c0002level0_row3\" class=\"row_heading level0 row3\" >Paranaguá</th>\n",
              "                        <td id=\"T_ef08727e_a61a_11eb_b8e5_0242ac1c0002row3_col0\" class=\"data row3 col0\" >156174</td>\n",
              "                        <td id=\"T_ef08727e_a61a_11eb_b8e5_0242ac1c0002row3_col1\" class=\"data row3 col1\" >22</td>\n",
              "                        <td id=\"T_ef08727e_a61a_11eb_b8e5_0242ac1c0002row3_col2\" class=\"data row3 col2\" >17842</td>\n",
              "            </tr>\n",
              "            <tr>\n",
              "                        <th id=\"T_ef08727e_a61a_11eb_b8e5_0242ac1c0002level0_row4\" class=\"row_heading level0 row4\" >Marechal Cândido Rondon </th>\n",
              "                        <td id=\"T_ef08727e_a61a_11eb_b8e5_0242ac1c0002row4_col0\" class=\"data row4 col0\" >53495</td>\n",
              "                        <td id=\"T_ef08727e_a61a_11eb_b8e5_0242ac1c0002row4_col1\" class=\"data row4 col1\" >22</td>\n",
              "                        <td id=\"T_ef08727e_a61a_11eb_b8e5_0242ac1c0002row4_col2\" class=\"data row4 col2\" >2564</td>\n",
              "            </tr>\n",
              "            <tr>\n",
              "                        <th id=\"T_ef08727e_a61a_11eb_b8e5_0242ac1c0002level0_row5\" class=\"row_heading level0 row5\" >Curitiba</th>\n",
              "                        <td id=\"T_ef08727e_a61a_11eb_b8e5_0242ac1c0002row5_col0\" class=\"data row5 col0\" >1948626</td>\n",
              "                        <td id=\"T_ef08727e_a61a_11eb_b8e5_0242ac1c0002row5_col1\" class=\"data row5 col1\" >18</td>\n",
              "                        <td id=\"T_ef08727e_a61a_11eb_b8e5_0242ac1c0002row5_col2\" class=\"data row5 col2\" >1622</td>\n",
              "            </tr>\n",
              "            <tr>\n",
              "                        <th id=\"T_ef08727e_a61a_11eb_b8e5_0242ac1c0002level0_row6\" class=\"row_heading level0 row6\" >Icaraíma</th>\n",
              "                        <td id=\"T_ef08727e_a61a_11eb_b8e5_0242ac1c0002row6_col0\" class=\"data row6 col0\" >7786</td>\n",
              "                        <td id=\"T_ef08727e_a61a_11eb_b8e5_0242ac1c0002row6_col1\" class=\"data row6 col1\" >24</td>\n",
              "                        <td id=\"T_ef08727e_a61a_11eb_b8e5_0242ac1c0002row6_col2\" class=\"data row6 col2\" >1426</td>\n",
              "            </tr>\n",
              "            <tr>\n",
              "                        <th id=\"T_ef08727e_a61a_11eb_b8e5_0242ac1c0002level0_row7\" class=\"row_heading level0 row7\" >Nova Tebas</th>\n",
              "                        <td id=\"T_ef08727e_a61a_11eb_b8e5_0242ac1c0002row7_col0\" class=\"data row7 col0\" >5448</td>\n",
              "                        <td id=\"T_ef08727e_a61a_11eb_b8e5_0242ac1c0002row7_col1\" class=\"data row7 col1\" >21</td>\n",
              "                        <td id=\"T_ef08727e_a61a_11eb_b8e5_0242ac1c0002row7_col2\" class=\"data row7 col2\" >944</td>\n",
              "            </tr>\n",
              "            <tr>\n",
              "                        <th id=\"T_ef08727e_a61a_11eb_b8e5_0242ac1c0002level0_row8\" class=\"row_heading level0 row8\" >Cidade Gaucha</th>\n",
              "                        <td id=\"T_ef08727e_a61a_11eb_b8e5_0242ac1c0002row8_col0\" class=\"data row8 col0\" >12797</td>\n",
              "                        <td id=\"T_ef08727e_a61a_11eb_b8e5_0242ac1c0002row8_col1\" class=\"data row8 col1\" >23</td>\n",
              "                        <td id=\"T_ef08727e_a61a_11eb_b8e5_0242ac1c0002row8_col2\" class=\"data row8 col2\" >887</td>\n",
              "            </tr>\n",
              "            <tr>\n",
              "                        <th id=\"T_ef08727e_a61a_11eb_b8e5_0242ac1c0002level0_row9\" class=\"row_heading level0 row9\" >Diamante do Norte</th>\n",
              "                        <td id=\"T_ef08727e_a61a_11eb_b8e5_0242ac1c0002row9_col0\" class=\"data row9 col0\" >5030</td>\n",
              "                        <td id=\"T_ef08727e_a61a_11eb_b8e5_0242ac1c0002row9_col1\" class=\"data row9 col1\" >23</td>\n",
              "                        <td id=\"T_ef08727e_a61a_11eb_b8e5_0242ac1c0002row9_col2\" class=\"data row9 col2\" >784</td>\n",
              "            </tr>\n",
              "            <tr>\n",
              "                        <th id=\"T_ef08727e_a61a_11eb_b8e5_0242ac1c0002level0_row10\" class=\"row_heading level0 row10\" >Paranapoema</th>\n",
              "                        <td id=\"T_ef08727e_a61a_11eb_b8e5_0242ac1c0002row10_col0\" class=\"data row10 col0\" >3241</td>\n",
              "                        <td id=\"T_ef08727e_a61a_11eb_b8e5_0242ac1c0002row10_col1\" class=\"data row10 col1\" >23</td>\n",
              "                        <td id=\"T_ef08727e_a61a_11eb_b8e5_0242ac1c0002row10_col2\" class=\"data row10 col2\" >670</td>\n",
              "            </tr>\n",
              "            <tr>\n",
              "                        <th id=\"T_ef08727e_a61a_11eb_b8e5_0242ac1c0002level0_row11\" class=\"row_heading level0 row11\" >Nova Fátima </th>\n",
              "                        <td id=\"T_ef08727e_a61a_11eb_b8e5_0242ac1c0002row11_col0\" class=\"data row11 col0\" >8136</td>\n",
              "                        <td id=\"T_ef08727e_a61a_11eb_b8e5_0242ac1c0002row11_col1\" class=\"data row11 col1\" >21</td>\n",
              "                        <td id=\"T_ef08727e_a61a_11eb_b8e5_0242ac1c0002row11_col2\" class=\"data row11 col2\" >450</td>\n",
              "            </tr>\n",
              "            <tr>\n",
              "                        <th id=\"T_ef08727e_a61a_11eb_b8e5_0242ac1c0002level0_row12\" class=\"row_heading level0 row12\" >Planalto</th>\n",
              "                        <td id=\"T_ef08727e_a61a_11eb_b8e5_0242ac1c0002row12_col0\" class=\"data row12 col0\" >13431</td>\n",
              "                        <td id=\"T_ef08727e_a61a_11eb_b8e5_0242ac1c0002row12_col1\" class=\"data row12 col1\" >22</td>\n",
              "                        <td id=\"T_ef08727e_a61a_11eb_b8e5_0242ac1c0002row12_col2\" class=\"data row12 col2\" >333</td>\n",
              "            </tr>\n",
              "            <tr>\n",
              "                        <th id=\"T_ef08727e_a61a_11eb_b8e5_0242ac1c0002level0_row13\" class=\"row_heading level0 row13\" >Dois Vizinhos</th>\n",
              "                        <td id=\"T_ef08727e_a61a_11eb_b8e5_0242ac1c0002row13_col0\" class=\"data row13 col0\" >41038</td>\n",
              "                        <td id=\"T_ef08727e_a61a_11eb_b8e5_0242ac1c0002row13_col1\" class=\"data row13 col1\" >21</td>\n",
              "                        <td id=\"T_ef08727e_a61a_11eb_b8e5_0242ac1c0002row13_col2\" class=\"data row13 col2\" >277</td>\n",
              "            </tr>\n",
              "            <tr>\n",
              "                        <th id=\"T_ef08727e_a61a_11eb_b8e5_0242ac1c0002level0_row14\" class=\"row_heading level0 row14\" >Morretes</th>\n",
              "                        <td id=\"T_ef08727e_a61a_11eb_b8e5_0242ac1c0002row14_col0\" class=\"data row14 col0\" >16446</td>\n",
              "                        <td id=\"T_ef08727e_a61a_11eb_b8e5_0242ac1c0002row14_col1\" class=\"data row14 col1\" >21</td>\n",
              "                        <td id=\"T_ef08727e_a61a_11eb_b8e5_0242ac1c0002row14_col2\" class=\"data row14 col2\" >176</td>\n",
              "            </tr>\n",
              "            <tr>\n",
              "                        <th id=\"T_ef08727e_a61a_11eb_b8e5_0242ac1c0002level0_row15\" class=\"row_heading level0 row15\" >Joaquim Távora</th>\n",
              "                        <td id=\"T_ef08727e_a61a_11eb_b8e5_0242ac1c0002row15_col0\" class=\"data row15 col0\" >12009</td>\n",
              "                        <td id=\"T_ef08727e_a61a_11eb_b8e5_0242ac1c0002row15_col1\" class=\"data row15 col1\" >22</td>\n",
              "                        <td id=\"T_ef08727e_a61a_11eb_b8e5_0242ac1c0002row15_col2\" class=\"data row15 col2\" >33</td>\n",
              "            </tr>\n",
              "            <tr>\n",
              "                        <th id=\"T_ef08727e_a61a_11eb_b8e5_0242ac1c0002level0_row16\" class=\"row_heading level0 row16\" >Colombo</th>\n",
              "                        <td id=\"T_ef08727e_a61a_11eb_b8e5_0242ac1c0002row16_col0\" class=\"data row16 col0\" >24654</td>\n",
              "                        <td id=\"T_ef08727e_a61a_11eb_b8e5_0242ac1c0002row16_col1\" class=\"data row16 col1\" >18</td>\n",
              "                        <td id=\"T_ef08727e_a61a_11eb_b8e5_0242ac1c0002row16_col2\" class=\"data row16 col2\" >25</td>\n",
              "            </tr>\n",
              "            <tr>\n",
              "                        <th id=\"T_ef08727e_a61a_11eb_b8e5_0242ac1c0002level0_row17\" class=\"row_heading level0 row17\" >Irati</th>\n",
              "                        <td id=\"T_ef08727e_a61a_11eb_b8e5_0242ac1c0002row17_col0\" class=\"data row17 col0\" >61088</td>\n",
              "                        <td id=\"T_ef08727e_a61a_11eb_b8e5_0242ac1c0002row17_col1\" class=\"data row17 col1\" >18</td>\n",
              "                        <td id=\"T_ef08727e_a61a_11eb_b8e5_0242ac1c0002row17_col2\" class=\"data row17 col2\" >17</td>\n",
              "            </tr>\n",
              "            <tr>\n",
              "                        <th id=\"T_ef08727e_a61a_11eb_b8e5_0242ac1c0002level0_row18\" class=\"row_heading level0 row18\" >São Mateus do Sul</th>\n",
              "                        <td id=\"T_ef08727e_a61a_11eb_b8e5_0242ac1c0002row18_col0\" class=\"data row18 col0\" >46705</td>\n",
              "                        <td id=\"T_ef08727e_a61a_11eb_b8e5_0242ac1c0002row18_col1\" class=\"data row18 col1\" >17</td>\n",
              "                        <td id=\"T_ef08727e_a61a_11eb_b8e5_0242ac1c0002row18_col2\" class=\"data row18 col2\" >7</td>\n",
              "            </tr>\n",
              "    </tbody></table>"
            ],
            "text/plain": [
              "<pandas.io.formats.style.Styler at 0x7f5f41c55f90>"
            ]
          },
          "metadata": {
            "tags": []
          },
          "execution_count": 4
        }
      ]
    },
    {
      "cell_type": "markdown",
      "metadata": {
        "id": "smVBWoxkGjZc"
      },
      "source": [
        "# Normalização dos dados de casos de dengue"
      ]
    },
    {
      "cell_type": "markdown",
      "metadata": {
        "id": "AJ7Lf7zMJV34"
      },
      "source": [
        "  No trabalho anterior, os resultados e gráficos obtidos foram analisados a partir dos casos de dengue obtidos de maneira genérica. Para uma análise melhor, os dados de casos de dengue foram normalizados. Para normalizar os casos, precisamos do número da população de cada município que está sendo trabalhado, assim podemos normalizar os casos para 100 mil habitantes. Segundo [1], indicadores como a taxa por cem mil habitantes são proporcionais ao tamanho da população, permitindo a comparação de populações de tamanhos diferentes. Dessa maneira, dividindo por grupos menores de pessoas, é possível entender a distribuição de casos de dengue de forma mais significativa. \n",
        "O cálculo utilizado é: Norm = (casos/popoulação) * 100.000. Os cálculos foram feitos para cada ano, sendo de 2014 a 2020 e também a soma de todos os casos de 2014 a 2020. A seguir é apresentado como é calculado a normalização dos casos de dengue em cada ano.\n",
        "\n",
        "\n",
        "\n"
      ]
    },
    {
      "cell_type": "markdown",
      "metadata": {
        "id": "ZcmrXHYWBJy3"
      },
      "source": [
        "Ano de 2014\n"
      ]
    },
    {
      "cell_type": "code",
      "metadata": {
        "id": "-H6ZMEgx0H4w",
        "colab": {
          "base_uri": "https://localhost:8080/",
          "height": 645
        },
        "outputId": "b3e0105e-5a85-48ca-955a-ac7f10f15b86"
      },
      "source": [
        "pop_casos = pd.read_csv('/content/drive/MyDrive/trabalho1CD/casos_normalizados/municipios_pop_casos2014.csv', sep = ';', encoding = 'latin-1')\n",
        "pop_casos\n",
        "#Norm = casos/população * 100000\n",
        "pop_casos['casos_dengue2014_normalizado'] = pop_casos.apply(lambda x: round((x['casos_dengue2014'] / x['Populacao total']),7)*100000, axis=1)\n",
        "pop_casos\n",
        "#salva arquivo na pasta casos_normalizados\n",
        "#pop_casos.to_csv('/content/drive/MyDrive/trabalho1CD/casos_normalizados/municipios_pop_casos_normalizado2014.csv', sep=';', index=True)"
      ],
      "execution_count": null,
      "outputs": [
        {
          "output_type": "execute_result",
          "data": {
            "text/html": [
              "<div>\n",
              "<style scoped>\n",
              "    .dataframe tbody tr th:only-of-type {\n",
              "        vertical-align: middle;\n",
              "    }\n",
              "\n",
              "    .dataframe tbody tr th {\n",
              "        vertical-align: top;\n",
              "    }\n",
              "\n",
              "    .dataframe thead th {\n",
              "        text-align: right;\n",
              "    }\n",
              "</style>\n",
              "<table border=\"1\" class=\"dataframe\">\n",
              "  <thead>\n",
              "    <tr style=\"text-align: right;\">\n",
              "      <th></th>\n",
              "      <th>Municipios</th>\n",
              "      <th>Populacao total</th>\n",
              "      <th>casos_dengue2014</th>\n",
              "      <th>casos_dengue2014_normalizado</th>\n",
              "    </tr>\n",
              "  </thead>\n",
              "  <tbody>\n",
              "    <tr>\n",
              "      <th>0</th>\n",
              "      <td>Cidade Gaucha</td>\n",
              "      <td>12797</td>\n",
              "      <td>424</td>\n",
              "      <td>3313.28</td>\n",
              "    </tr>\n",
              "    <tr>\n",
              "      <th>1</th>\n",
              "      <td>Colombo</td>\n",
              "      <td>24654</td>\n",
              "      <td>0</td>\n",
              "      <td>0.00</td>\n",
              "    </tr>\n",
              "    <tr>\n",
              "      <th>2</th>\n",
              "      <td>Curitiba</td>\n",
              "      <td>1948626</td>\n",
              "      <td>58</td>\n",
              "      <td>2.98</td>\n",
              "    </tr>\n",
              "    <tr>\n",
              "      <th>3</th>\n",
              "      <td>Diamante do Norte</td>\n",
              "      <td>5030</td>\n",
              "      <td>184</td>\n",
              "      <td>3658.05</td>\n",
              "    </tr>\n",
              "    <tr>\n",
              "      <th>4</th>\n",
              "      <td>Dois Vizinhos</td>\n",
              "      <td>41038</td>\n",
              "      <td>0</td>\n",
              "      <td>0.00</td>\n",
              "    </tr>\n",
              "    <tr>\n",
              "      <th>5</th>\n",
              "      <td>Foz do Iguacu</td>\n",
              "      <td>258248</td>\n",
              "      <td>48</td>\n",
              "      <td>18.59</td>\n",
              "    </tr>\n",
              "    <tr>\n",
              "      <th>6</th>\n",
              "      <td>Icaraima</td>\n",
              "      <td>7786</td>\n",
              "      <td>9</td>\n",
              "      <td>115.59</td>\n",
              "    </tr>\n",
              "    <tr>\n",
              "      <th>7</th>\n",
              "      <td>Irati</td>\n",
              "      <td>61088</td>\n",
              "      <td>1</td>\n",
              "      <td>1.64</td>\n",
              "    </tr>\n",
              "    <tr>\n",
              "      <th>8</th>\n",
              "      <td>Joaquim Tavora</td>\n",
              "      <td>12009</td>\n",
              "      <td>0</td>\n",
              "      <td>0.00</td>\n",
              "    </tr>\n",
              "    <tr>\n",
              "      <th>9</th>\n",
              "      <td>Londrina</td>\n",
              "      <td>575377</td>\n",
              "      <td>1413</td>\n",
              "      <td>245.58</td>\n",
              "    </tr>\n",
              "    <tr>\n",
              "      <th>10</th>\n",
              "      <td>Marechal Candido Rondon</td>\n",
              "      <td>53495</td>\n",
              "      <td>0</td>\n",
              "      <td>0.00</td>\n",
              "    </tr>\n",
              "    <tr>\n",
              "      <th>11</th>\n",
              "      <td>Maringa</td>\n",
              "      <td>430157</td>\n",
              "      <td>3669</td>\n",
              "      <td>852.94</td>\n",
              "    </tr>\n",
              "    <tr>\n",
              "      <th>12</th>\n",
              "      <td>Morretes</td>\n",
              "      <td>16446</td>\n",
              "      <td>0</td>\n",
              "      <td>0.00</td>\n",
              "    </tr>\n",
              "    <tr>\n",
              "      <th>13</th>\n",
              "      <td>Nova Fatima</td>\n",
              "      <td>8136</td>\n",
              "      <td>1</td>\n",
              "      <td>12.29</td>\n",
              "    </tr>\n",
              "    <tr>\n",
              "      <th>14</th>\n",
              "      <td>Nova Tebas</td>\n",
              "      <td>5448</td>\n",
              "      <td>2</td>\n",
              "      <td>36.71</td>\n",
              "    </tr>\n",
              "    <tr>\n",
              "      <th>15</th>\n",
              "      <td>Paranagua</td>\n",
              "      <td>156174</td>\n",
              "      <td>0</td>\n",
              "      <td>0.00</td>\n",
              "    </tr>\n",
              "    <tr>\n",
              "      <th>16</th>\n",
              "      <td>Paranapoema</td>\n",
              "      <td>3241</td>\n",
              "      <td>42</td>\n",
              "      <td>1295.90</td>\n",
              "    </tr>\n",
              "    <tr>\n",
              "      <th>17</th>\n",
              "      <td>Planalto</td>\n",
              "      <td>13431</td>\n",
              "      <td>0</td>\n",
              "      <td>0.00</td>\n",
              "    </tr>\n",
              "    <tr>\n",
              "      <th>18</th>\n",
              "      <td>Sao Mateus do Sul</td>\n",
              "      <td>46705</td>\n",
              "      <td>0</td>\n",
              "      <td>0.00</td>\n",
              "    </tr>\n",
              "  </tbody>\n",
              "</table>\n",
              "</div>"
            ],
            "text/plain": [
              "                 Municipios  ...  casos_dengue2014_normalizado\n",
              "0             Cidade Gaucha  ...                       3313.28\n",
              "1                   Colombo  ...                          0.00\n",
              "2                  Curitiba  ...                          2.98\n",
              "3         Diamante do Norte  ...                       3658.05\n",
              "4             Dois Vizinhos  ...                          0.00\n",
              "5            Foz do Iguacu   ...                         18.59\n",
              "6                  Icaraima  ...                        115.59\n",
              "7                     Irati  ...                          1.64\n",
              "8            Joaquim Tavora  ...                          0.00\n",
              "9                  Londrina  ...                        245.58\n",
              "10  Marechal Candido Rondon  ...                          0.00\n",
              "11                  Maringa  ...                        852.94\n",
              "12                 Morretes  ...                          0.00\n",
              "13              Nova Fatima  ...                         12.29\n",
              "14               Nova Tebas  ...                         36.71\n",
              "15                Paranagua  ...                          0.00\n",
              "16              Paranapoema  ...                       1295.90\n",
              "17                 Planalto  ...                          0.00\n",
              "18        Sao Mateus do Sul  ...                          0.00\n",
              "\n",
              "[19 rows x 4 columns]"
            ]
          },
          "metadata": {
            "tags": []
          },
          "execution_count": 24
        }
      ]
    },
    {
      "cell_type": "markdown",
      "metadata": {
        "id": "1qgQuDsNBNco"
      },
      "source": [
        "Ano de 2015"
      ]
    },
    {
      "cell_type": "code",
      "metadata": {
        "id": "z8nA3fCf9emL"
      },
      "source": [
        "pop_casos = pd.read_csv('/content/drive/MyDrive/trabalho1CD/casos_normalizados/municipios_pop_casos2015.csv', sep = ';', encoding = 'latin-1')\n",
        "#Norm = casos/população * 100000\n",
        "pop_casos['casos_dengue2015_normalizado'] = pop_casos.apply(lambda x: round((x['casos_dengue2015'] / x['Populacao total']),7)*100000, axis=1)\n",
        "pop_casos\n",
        "#salva arquivo na pasta casos_normalizados\n",
        "pop_casos.to_csv('/content/drive/MyDrive/trabalho1CD/casos_normalizados/municipios_pop_casos_normalizado2015.csv', sep=';', index=True)"
      ],
      "execution_count": null,
      "outputs": []
    },
    {
      "cell_type": "markdown",
      "metadata": {
        "id": "1wNLWbqaBQZh"
      },
      "source": [
        "Ano de 2016"
      ]
    },
    {
      "cell_type": "code",
      "metadata": {
        "id": "O7QjakP59xLu"
      },
      "source": [
        "pop_casos = pd.read_csv('/content/drive/MyDrive/trabalho1CD/casos_normalizados/municipios_pop_casos2016.csv', sep = ';', encoding = 'latin-1')\n",
        "#Norm = casos/população * 100000\n",
        "pop_casos['casos_dengue2016_normalizado'] = pop_casos.apply(lambda x: round((x['casos_dengue2016'] / x['Populacao total']),7)*100000, axis=1)\n",
        "pop_casos\n",
        "#salva arquivo na pasta casos_normalizados\n",
        "pop_casos.to_csv('/content/drive/MyDrive/trabalho1CD/casos_normalizados/municipios_pop_casos_normalizado2016.csv', sep=';', index=True)"
      ],
      "execution_count": null,
      "outputs": []
    },
    {
      "cell_type": "markdown",
      "metadata": {
        "id": "6dy8iR1XBbfv"
      },
      "source": [
        "Ano de 2017"
      ]
    },
    {
      "cell_type": "code",
      "metadata": {
        "id": "jAJwcXkCB1F1"
      },
      "source": [
        "pop_casos = pd.read_csv('/content/drive/MyDrive/trabalho1CD/casos_normalizados/municipios_pop_casos2017.csv', sep = ';', encoding = 'latin-1')\n",
        "#Norm = casos/população * 100000\n",
        "pop_casos['casos_dengue2017_normalizado'] = pop_casos.apply(lambda x: round((x['casos_dengue2017'] / x['Populacao total']),7)*100000, axis=1)\n",
        "pop_casos\n",
        "#salva arquivo na pasta casos_normalizados\n",
        "#pop_casos.to_csv('/content/drive/MyDrive/trabalho1CD/casos_normalizados/municipios_pop_casos_normalizado2017.csv', sep=';', index=True)"
      ],
      "execution_count": null,
      "outputs": []
    },
    {
      "cell_type": "markdown",
      "metadata": {
        "id": "UpsNYbXEC1I9"
      },
      "source": [
        "Ano de 2018"
      ]
    },
    {
      "cell_type": "code",
      "metadata": {
        "id": "UxlzeJr3C334"
      },
      "source": [
        "pop_casos = pd.read_csv('/content/drive/MyDrive/trabalho1CD/casos_normalizados/municipios_pop_casos2018.csv', sep = ';', encoding = 'latin-1')\n",
        "#Norm = casos/população * 100000\n",
        "pop_casos['casos_dengue2018_normalizado'] = pop_casos.apply(lambda x: round((x['casos_dengue2018'] / x['Populacao total']),7)*100000, axis=1)\n",
        "pop_casos\n",
        "#salva arquivo na pasta casos_normalizados\n",
        "pop_casos.to_csv('/content/drive/MyDrive/trabalho1CD/casos_normalizados/municipios_pop_casos_normalizado2018.csv', sep=';', index=True)"
      ],
      "execution_count": null,
      "outputs": []
    },
    {
      "cell_type": "markdown",
      "metadata": {
        "id": "IFx5XD-3DMOp"
      },
      "source": [
        "Ano de 2019\n"
      ]
    },
    {
      "cell_type": "code",
      "metadata": {
        "id": "yv8IHq3uDOca"
      },
      "source": [
        "pop_casos = pd.read_csv('/content/drive/MyDrive/trabalho1CD/casos_normalizados/municipios_pop_casos2019.csv', sep = ';', encoding = 'latin-1')\n",
        "#Norm = casos/população * 100000\n",
        "pop_casos['casos_dengue2019_normalizado'] = pop_casos.apply(lambda x: round((x['casos_dengue2019'] / x['Populacao total']),7)*100000, axis=1)\n",
        "pop_casos\n",
        "#salva arquivo na pasta casos_normalizados\n",
        "pop_casos.to_csv('/content/drive/MyDrive/trabalho1CD/casos_normalizados/municipios_pop_casos_normalizado2019.csv', sep=';', index=True)"
      ],
      "execution_count": null,
      "outputs": []
    },
    {
      "cell_type": "markdown",
      "metadata": {
        "id": "SunZw9p8GOFE"
      },
      "source": [
        "Ano de 2020"
      ]
    },
    {
      "cell_type": "code",
      "metadata": {
        "id": "3OBpad2-pUQ8"
      },
      "source": [
        "pop_casos = pd.read_csv('/content/drive/MyDrive/trabalho1CD/casos_normalizados/municipios_pop_casos2020.csv', sep = ';', encoding = 'latin-1')\n",
        "#Norm = casos/população * 100000\n",
        "pop_casos['casos_dengue2020_normalizado'] = pop_casos.apply(lambda x: round((x['casos_dengue2020'] / x['Populacao total']),7)*100000, axis=1)\n",
        "pop_casos\n",
        "#salva arquivo na pasta casos_normalizados\n",
        "pop_casos.to_csv('/content/drive/MyDrive/trabalho1CD/municipios_pop_casos_normalizado2020.csv', sep=';', index=True)"
      ],
      "execution_count": null,
      "outputs": []
    },
    {
      "cell_type": "markdown",
      "metadata": {
        "id": "66gAFyzvMW-M"
      },
      "source": [
        "# Total de casos de dengue normalizados de 2014 a 2020"
      ]
    },
    {
      "cell_type": "markdown",
      "metadata": {
        "id": "HHt-Q9yIVk3d"
      },
      "source": [
        "Neste Dataframe chamado *casos_normalizados* é apresentado uma tabela com algumas variáveis, mas para representar o total de casos de dengue normalizados, a coluna *Municípios* e a coluna *Total casos norm* são utilizadas."
      ]
    },
    {
      "cell_type": "code",
      "metadata": {
        "id": "FMIIPUSKaWys"
      },
      "source": [
        "casos_normalizados = pd.read_csv('/content/drive/MyDrive/trabalho1CD/dados_teste/casos_idh_esgotamento_temp.csv', sep = ';', encoding = 'latin-1')\n",
        "casos_normalizados "
      ],
      "execution_count": null,
      "outputs": []
    },
    {
      "cell_type": "markdown",
      "metadata": {
        "id": "sMY7nJnnWi_K"
      },
      "source": [
        " \n",
        "O gráfico a seguir mostra o total de casos de todos os anos em cada cidade.\n"
      ]
    },
    {
      "cell_type": "code",
      "metadata": {
        "colab": {
          "base_uri": "https://localhost:8080/",
          "height": 542
        },
        "id": "xKi4lZxybsdi",
        "outputId": "d5f6db54-e026-467d-f215-b504ea496d40"
      },
      "source": [
        "import plotly\n",
        "plotly.io.renderers.default = 'colab'\n",
        "\n",
        "fig = go.Figure()\n",
        "fig.add_trace(go.Scatter(x= casos_normalizados['Municípios'], y= casos_normalizados['Total casos norm'], mode = 'lines+markers', name='Casos'))\n",
        "fig.update_layout(title_text = 'Número total de casos de dengue normalizados para cada município', plot_bgcolor = 'rgb(230, 230, 230)')\n",
        "fig.show()"
      ],
      "execution_count": null,
      "outputs": [
        {
          "output_type": "display_data",
          "data": {
            "text/html": [
              "<html>\n",
              "<head><meta charset=\"utf-8\" /></head>\n",
              "<body>\n",
              "    <div>\n",
              "            <script src=\"https://cdnjs.cloudflare.com/ajax/libs/mathjax/2.7.5/MathJax.js?config=TeX-AMS-MML_SVG\"></script><script type=\"text/javascript\">if (window.MathJax) {MathJax.Hub.Config({SVG: {font: \"STIX-Web\"}});}</script>\n",
              "                <script type=\"text/javascript\">window.PlotlyConfig = {MathJaxConfig: 'local'};</script>\n",
              "        <script src=\"https://cdn.plot.ly/plotly-latest.min.js\"></script>    \n",
              "            <div id=\"232cc971-c74d-4dba-a6bb-703305000ac0\" class=\"plotly-graph-div\" style=\"height:525px; width:100%;\"></div>\n",
              "            <script type=\"text/javascript\">\n",
              "                \n",
              "                    window.PLOTLYENV=window.PLOTLYENV || {};\n",
              "                    \n",
              "                if (document.getElementById(\"232cc971-c74d-4dba-a6bb-703305000ac0\")) {\n",
              "                    Plotly.newPlot(\n",
              "                        '232cc971-c74d-4dba-a6bb-703305000ac0',\n",
              "                        [{\"mode\": \"lines+markers\", \"name\": \"Casos\", \"type\": \"scatter\", \"x\": [\"Cidade Gaucha\", \"Colombo\", \"Curitiba\", \"Diamante do Norte\", \"Dois Vizinhos\", \"Foz do Igua\\u00e7u\", \"Icara\\u00edma\", \"Irati\", \"Joaquim T\\u00e1vora\", \"Londrina\", \"Marechal C\\u00e2ndido Rondon \", \"Maring\\u00e1\", \"Morretes\", \"Nova F\\u00e1tima \", \"Nova Tebas\", \"Paranagu\\u00e1\", \"Paranapoema\", \"Planalto\", \"S\\u00e3o Mateus do Sul\"], \"y\": [3339, 101, 83, 15586, 697, 13155, 18314, 28, 275, 5135, 896, 4044, 1070, 5530, 167, 10843, 5523, 2479, 33]}],\n",
              "                        {\"plot_bgcolor\": \"rgb(230, 230, 230)\", \"template\": {\"data\": {\"bar\": [{\"error_x\": {\"color\": \"#2a3f5f\"}, \"error_y\": {\"color\": \"#2a3f5f\"}, \"marker\": {\"line\": {\"color\": \"#E5ECF6\", \"width\": 0.5}}, \"type\": \"bar\"}], \"barpolar\": [{\"marker\": {\"line\": {\"color\": \"#E5ECF6\", \"width\": 0.5}}, \"type\": \"barpolar\"}], \"carpet\": [{\"aaxis\": {\"endlinecolor\": \"#2a3f5f\", \"gridcolor\": \"white\", \"linecolor\": \"white\", \"minorgridcolor\": \"white\", \"startlinecolor\": \"#2a3f5f\"}, \"baxis\": {\"endlinecolor\": \"#2a3f5f\", \"gridcolor\": \"white\", \"linecolor\": \"white\", \"minorgridcolor\": \"white\", \"startlinecolor\": \"#2a3f5f\"}, \"type\": \"carpet\"}], \"choropleth\": [{\"colorbar\": {\"outlinewidth\": 0, \"ticks\": \"\"}, \"type\": \"choropleth\"}], \"contour\": [{\"colorbar\": {\"outlinewidth\": 0, \"ticks\": \"\"}, \"colorscale\": [[0.0, \"#0d0887\"], [0.1111111111111111, \"#46039f\"], [0.2222222222222222, \"#7201a8\"], [0.3333333333333333, \"#9c179e\"], [0.4444444444444444, \"#bd3786\"], [0.5555555555555556, \"#d8576b\"], [0.6666666666666666, \"#ed7953\"], [0.7777777777777778, \"#fb9f3a\"], [0.8888888888888888, \"#fdca26\"], [1.0, \"#f0f921\"]], \"type\": \"contour\"}], \"contourcarpet\": [{\"colorbar\": {\"outlinewidth\": 0, \"ticks\": \"\"}, \"type\": \"contourcarpet\"}], \"heatmap\": [{\"colorbar\": {\"outlinewidth\": 0, \"ticks\": \"\"}, \"colorscale\": [[0.0, \"#0d0887\"], [0.1111111111111111, \"#46039f\"], [0.2222222222222222, \"#7201a8\"], [0.3333333333333333, \"#9c179e\"], [0.4444444444444444, \"#bd3786\"], [0.5555555555555556, \"#d8576b\"], [0.6666666666666666, \"#ed7953\"], [0.7777777777777778, \"#fb9f3a\"], [0.8888888888888888, \"#fdca26\"], [1.0, \"#f0f921\"]], \"type\": \"heatmap\"}], \"heatmapgl\": [{\"colorbar\": {\"outlinewidth\": 0, \"ticks\": \"\"}, \"colorscale\": [[0.0, \"#0d0887\"], [0.1111111111111111, \"#46039f\"], [0.2222222222222222, \"#7201a8\"], [0.3333333333333333, \"#9c179e\"], [0.4444444444444444, \"#bd3786\"], [0.5555555555555556, \"#d8576b\"], [0.6666666666666666, \"#ed7953\"], [0.7777777777777778, \"#fb9f3a\"], [0.8888888888888888, \"#fdca26\"], [1.0, \"#f0f921\"]], \"type\": \"heatmapgl\"}], \"histogram\": [{\"marker\": {\"colorbar\": {\"outlinewidth\": 0, \"ticks\": \"\"}}, \"type\": \"histogram\"}], \"histogram2d\": [{\"colorbar\": {\"outlinewidth\": 0, \"ticks\": \"\"}, \"colorscale\": [[0.0, \"#0d0887\"], [0.1111111111111111, \"#46039f\"], [0.2222222222222222, \"#7201a8\"], [0.3333333333333333, \"#9c179e\"], [0.4444444444444444, \"#bd3786\"], [0.5555555555555556, \"#d8576b\"], [0.6666666666666666, \"#ed7953\"], [0.7777777777777778, \"#fb9f3a\"], [0.8888888888888888, \"#fdca26\"], [1.0, \"#f0f921\"]], \"type\": \"histogram2d\"}], \"histogram2dcontour\": [{\"colorbar\": {\"outlinewidth\": 0, \"ticks\": \"\"}, \"colorscale\": [[0.0, \"#0d0887\"], [0.1111111111111111, \"#46039f\"], [0.2222222222222222, \"#7201a8\"], [0.3333333333333333, \"#9c179e\"], [0.4444444444444444, \"#bd3786\"], [0.5555555555555556, \"#d8576b\"], [0.6666666666666666, \"#ed7953\"], [0.7777777777777778, \"#fb9f3a\"], [0.8888888888888888, \"#fdca26\"], [1.0, \"#f0f921\"]], \"type\": \"histogram2dcontour\"}], \"mesh3d\": [{\"colorbar\": {\"outlinewidth\": 0, \"ticks\": \"\"}, \"type\": \"mesh3d\"}], \"parcoords\": [{\"line\": {\"colorbar\": {\"outlinewidth\": 0, \"ticks\": \"\"}}, \"type\": \"parcoords\"}], \"pie\": [{\"automargin\": true, \"type\": \"pie\"}], \"scatter\": [{\"marker\": {\"colorbar\": {\"outlinewidth\": 0, \"ticks\": \"\"}}, \"type\": \"scatter\"}], \"scatter3d\": [{\"line\": {\"colorbar\": {\"outlinewidth\": 0, \"ticks\": \"\"}}, \"marker\": {\"colorbar\": {\"outlinewidth\": 0, \"ticks\": \"\"}}, \"type\": \"scatter3d\"}], \"scattercarpet\": [{\"marker\": {\"colorbar\": {\"outlinewidth\": 0, \"ticks\": \"\"}}, \"type\": \"scattercarpet\"}], \"scattergeo\": [{\"marker\": {\"colorbar\": {\"outlinewidth\": 0, \"ticks\": \"\"}}, \"type\": \"scattergeo\"}], \"scattergl\": [{\"marker\": {\"colorbar\": {\"outlinewidth\": 0, \"ticks\": \"\"}}, \"type\": \"scattergl\"}], \"scattermapbox\": [{\"marker\": {\"colorbar\": {\"outlinewidth\": 0, \"ticks\": \"\"}}, \"type\": \"scattermapbox\"}], \"scatterpolar\": [{\"marker\": {\"colorbar\": {\"outlinewidth\": 0, \"ticks\": \"\"}}, \"type\": \"scatterpolar\"}], \"scatterpolargl\": [{\"marker\": {\"colorbar\": {\"outlinewidth\": 0, \"ticks\": \"\"}}, \"type\": \"scatterpolargl\"}], \"scatterternary\": [{\"marker\": {\"colorbar\": {\"outlinewidth\": 0, \"ticks\": \"\"}}, \"type\": \"scatterternary\"}], \"surface\": [{\"colorbar\": {\"outlinewidth\": 0, \"ticks\": \"\"}, \"colorscale\": [[0.0, \"#0d0887\"], [0.1111111111111111, \"#46039f\"], [0.2222222222222222, \"#7201a8\"], [0.3333333333333333, \"#9c179e\"], [0.4444444444444444, \"#bd3786\"], [0.5555555555555556, \"#d8576b\"], [0.6666666666666666, \"#ed7953\"], [0.7777777777777778, \"#fb9f3a\"], [0.8888888888888888, \"#fdca26\"], [1.0, \"#f0f921\"]], \"type\": \"surface\"}], \"table\": [{\"cells\": {\"fill\": {\"color\": \"#EBF0F8\"}, \"line\": {\"color\": \"white\"}}, \"header\": {\"fill\": {\"color\": \"#C8D4E3\"}, \"line\": {\"color\": \"white\"}}, \"type\": \"table\"}]}, \"layout\": {\"annotationdefaults\": {\"arrowcolor\": \"#2a3f5f\", \"arrowhead\": 0, \"arrowwidth\": 1}, \"coloraxis\": {\"colorbar\": {\"outlinewidth\": 0, \"ticks\": \"\"}}, \"colorscale\": {\"diverging\": [[0, \"#8e0152\"], [0.1, \"#c51b7d\"], [0.2, \"#de77ae\"], [0.3, \"#f1b6da\"], [0.4, \"#fde0ef\"], [0.5, \"#f7f7f7\"], [0.6, \"#e6f5d0\"], [0.7, \"#b8e186\"], [0.8, \"#7fbc41\"], [0.9, \"#4d9221\"], [1, \"#276419\"]], \"sequential\": [[0.0, \"#0d0887\"], [0.1111111111111111, \"#46039f\"], [0.2222222222222222, \"#7201a8\"], [0.3333333333333333, \"#9c179e\"], [0.4444444444444444, \"#bd3786\"], [0.5555555555555556, \"#d8576b\"], [0.6666666666666666, \"#ed7953\"], [0.7777777777777778, \"#fb9f3a\"], [0.8888888888888888, \"#fdca26\"], [1.0, \"#f0f921\"]], \"sequentialminus\": [[0.0, \"#0d0887\"], [0.1111111111111111, \"#46039f\"], [0.2222222222222222, \"#7201a8\"], [0.3333333333333333, \"#9c179e\"], [0.4444444444444444, \"#bd3786\"], [0.5555555555555556, \"#d8576b\"], [0.6666666666666666, \"#ed7953\"], [0.7777777777777778, \"#fb9f3a\"], [0.8888888888888888, \"#fdca26\"], [1.0, \"#f0f921\"]]}, \"colorway\": [\"#636efa\", \"#EF553B\", \"#00cc96\", \"#ab63fa\", \"#FFA15A\", \"#19d3f3\", \"#FF6692\", \"#B6E880\", \"#FF97FF\", \"#FECB52\"], \"font\": {\"color\": \"#2a3f5f\"}, \"geo\": {\"bgcolor\": \"white\", \"lakecolor\": \"white\", \"landcolor\": \"#E5ECF6\", \"showlakes\": true, \"showland\": true, \"subunitcolor\": \"white\"}, \"hoverlabel\": {\"align\": \"left\"}, \"hovermode\": \"closest\", \"mapbox\": {\"style\": \"light\"}, \"paper_bgcolor\": \"white\", \"plot_bgcolor\": \"#E5ECF6\", \"polar\": {\"angularaxis\": {\"gridcolor\": \"white\", \"linecolor\": \"white\", \"ticks\": \"\"}, \"bgcolor\": \"#E5ECF6\", \"radialaxis\": {\"gridcolor\": \"white\", \"linecolor\": \"white\", \"ticks\": \"\"}}, \"scene\": {\"xaxis\": {\"backgroundcolor\": \"#E5ECF6\", \"gridcolor\": \"white\", \"gridwidth\": 2, \"linecolor\": \"white\", \"showbackground\": true, \"ticks\": \"\", \"zerolinecolor\": \"white\"}, \"yaxis\": {\"backgroundcolor\": \"#E5ECF6\", \"gridcolor\": \"white\", \"gridwidth\": 2, \"linecolor\": \"white\", \"showbackground\": true, \"ticks\": \"\", \"zerolinecolor\": \"white\"}, \"zaxis\": {\"backgroundcolor\": \"#E5ECF6\", \"gridcolor\": \"white\", \"gridwidth\": 2, \"linecolor\": \"white\", \"showbackground\": true, \"ticks\": \"\", \"zerolinecolor\": \"white\"}}, \"shapedefaults\": {\"line\": {\"color\": \"#2a3f5f\"}}, \"ternary\": {\"aaxis\": {\"gridcolor\": \"white\", \"linecolor\": \"white\", \"ticks\": \"\"}, \"baxis\": {\"gridcolor\": \"white\", \"linecolor\": \"white\", \"ticks\": \"\"}, \"bgcolor\": \"#E5ECF6\", \"caxis\": {\"gridcolor\": \"white\", \"linecolor\": \"white\", \"ticks\": \"\"}}, \"title\": {\"x\": 0.05}, \"xaxis\": {\"automargin\": true, \"gridcolor\": \"white\", \"linecolor\": \"white\", \"ticks\": \"\", \"title\": {\"standoff\": 15}, \"zerolinecolor\": \"white\", \"zerolinewidth\": 2}, \"yaxis\": {\"automargin\": true, \"gridcolor\": \"white\", \"linecolor\": \"white\", \"ticks\": \"\", \"title\": {\"standoff\": 15}, \"zerolinecolor\": \"white\", \"zerolinewidth\": 2}}}, \"title\": {\"text\": \"N\\u00famero total de casos de dengue normalizados para cada munic\\u00edpio\"}},\n",
              "                        {\"responsive\": true}\n",
              "                    ).then(function(){\n",
              "                            \n",
              "var gd = document.getElementById('232cc971-c74d-4dba-a6bb-703305000ac0');\n",
              "var x = new MutationObserver(function (mutations, observer) {{\n",
              "        var display = window.getComputedStyle(gd).display;\n",
              "        if (!display || display === 'none') {{\n",
              "            console.log([gd, 'removed!']);\n",
              "            Plotly.purge(gd);\n",
              "            observer.disconnect();\n",
              "        }}\n",
              "}});\n",
              "\n",
              "// Listen for the removal of the full notebook cells\n",
              "var notebookContainer = gd.closest('#notebook-container');\n",
              "if (notebookContainer) {{\n",
              "    x.observe(notebookContainer, {childList: true});\n",
              "}}\n",
              "\n",
              "// Listen for the clearing of the current output cell\n",
              "var outputEl = gd.closest('.output');\n",
              "if (outputEl) {{\n",
              "    x.observe(outputEl, {childList: true});\n",
              "}}\n",
              "\n",
              "                        })\n",
              "                };\n",
              "                \n",
              "            </script>\n",
              "        </div>\n",
              "</body>\n",
              "</html>"
            ]
          },
          "metadata": {
            "tags": []
          }
        }
      ]
    },
    {
      "cell_type": "markdown",
      "metadata": {
        "id": "tDMquvgwoVT4"
      },
      "source": [
        "Pode-se observar que o município de Icaraíma teve o maior número de notificações de casos para 100 mil habitantes, diferente do trabalho 1 que foi apresentado o top 5 cidades. \n",
        "\n",
        "\n"
      ]
    },
    {
      "cell_type": "markdown",
      "metadata": {
        "id": "jH33P4AD-JIg"
      },
      "source": [
        "# Top 5 municípios de casos de dengue normalizado"
      ]
    },
    {
      "cell_type": "code",
      "metadata": {
        "id": "KNwOisbeuup_",
        "colab": {
          "base_uri": "https://localhost:8080/",
          "height": 843
        },
        "outputId": "6ab0247d-0109-43db-f285-4a8bbc1838fe"
      },
      "source": [
        "plt.figure(figsize=(15,13))\n",
        "total_cidades_top5= pd.read_csv('/content/drive/MyDrive/trabalho1CD/casos_normalizados/top5_normalizado.csv', sep = ';', encoding = 'latin-1')\n",
        "\n",
        "labels = ['Icaraima', 'Diamante do Norte', 'Foz do Iguacu', 'Paranagua', 'Paranapoema']\n",
        "values = [total_cidades_top5['Icaraima'][7:], total_cidades_top5['Diamante do Norte'][7:], total_cidades_top5['Foz do Iguacu'][7:], total_cidades_top5['Paranagua'][7:], total_cidades_top5['Paranapoema'][7:]]\n",
        "cores = ['midnightblue', 'darkblue', 'royalblue', 'cornflowerblue', 'lightblue']\n",
        "plt.pie(values, labels=labels, colors = cores, autopct = '%.1f%%', shadow = True)\n",
        "plt.title(' As 5 cidades com os maiores números de casos de 2014 à 2020 ')\n",
        "plt.legend()\n",
        "plt.show()"
      ],
      "execution_count": null,
      "outputs": [
        {
          "output_type": "stream",
          "text": [
            "/usr/local/lib/python3.7/dist-packages/ipykernel_launcher.py:7: MatplotlibDeprecationWarning:\n",
            "\n",
            "Non-1D inputs to pie() are currently squeeze()d, but this behavior is deprecated since 3.1 and will be removed in 3.3; pass a 1D array instead.\n",
            "\n"
          ],
          "name": "stderr"
        },
        {
          "output_type": "display_data",
          "data": {
            "image/png": "[encoded data removed]",
            "text/plain": [
              "<Figure size 1080x936 with 1 Axes>"
            ]
          },
          "metadata": {
            "tags": []
          }
        }
      ]
    },
    {
      "cell_type": "markdown",
      "metadata": {
        "id": "NSowYrtV-v05"
      },
      "source": [
        "O top 5 municípios que mais notificaram casos de dengue entre os anos de 2014 e 2020 foram Londrina (38227), Foz do Iguaçu (33975), Maringá (24414), Paranaguá (17846) e Marechal Cândido Rondon (2564). Contudo, normalizando os dados de uma maneira igualitária em relação à população, o top 5 municípios que mais notificaram casos de dengue normalizados entre os anos de 2014 e 2020 são, respectivamente: Icaraíma (18314), Diamante do Norte (15586), Foz do Iguaçu (13155), Paranaguá (10843) e Paranapoema (5523). O município de Paranaguá é o único que está na quarta posição em ambos top 5 municípios, também Foz do Iguaçu aparece em ambos.\n",
        "\n",
        "---\n",
        "\n",
        "\n",
        "Dessa maneira, entende-se o quão importante é avaliar os dados de maneira normalizada, pois resulta em valores diferentes e assim também na interpretação dos resultados.\n"
      ]
    },
    {
      "cell_type": "markdown",
      "metadata": {
        "id": "lNLFewkcHOa3"
      },
      "source": [
        "# **Novas variáveis**"
      ]
    },
    {
      "cell_type": "markdown",
      "metadata": {
        "id": "QnukGEIDht86"
      },
      "source": [
        "Até a primeira parte do trabalho, foram utilizadas apenas variáveis referentes ao clima dos municípios. Na segunda etapa, foram adicionadas novas variáveis, sendo elas a porcentagem de esgotamento adequado, o índice de desenvolvimento humano (IDH), o produto interno pruto (PIB) per capita e a população de cada município. Os dados foram retirados no site do IBGE [2].\n",
        "\n",
        "Durante o tratamento dos dados do pib, percebeu-se que essa variável não influenciava diretamente nos casos de dengue. Desse modo, optou-se por retirá-la."
      ]
    },
    {
      "cell_type": "code",
      "metadata": {
        "colab": {
          "base_uri": "https://localhost:8080/",
          "height": 173
        },
        "id": "bHyk4YDpkKvK",
        "outputId": "1a611f3d-1df6-4874-ef02-07948fd973cf"
      },
      "source": [
        "pop_idh_esg.corr(\"spearman\")"
      ],
      "execution_count": null,
      "outputs": [
        {
          "output_type": "execute_result",
          "data": {
            "text/html": [
              "<div>\n",
              "<style scoped>\n",
              "    .dataframe tbody tr th:only-of-type {\n",
              "        vertical-align: middle;\n",
              "    }\n",
              "\n",
              "    .dataframe tbody tr th {\n",
              "        vertical-align: top;\n",
              "    }\n",
              "\n",
              "    .dataframe thead th {\n",
              "        text-align: right;\n",
              "    }\n",
              "</style>\n",
              "<table border=\"1\" class=\"dataframe\">\n",
              "  <thead>\n",
              "    <tr style=\"text-align: right;\">\n",
              "      <th></th>\n",
              "      <th>Total casos norm</th>\n",
              "      <th>Porcentagem de esgotamento</th>\n",
              "      <th>Temperatura media</th>\n",
              "      <th>IDH</th>\n",
              "    </tr>\n",
              "  </thead>\n",
              "  <tbody>\n",
              "    <tr>\n",
              "      <th>Total casos norm</th>\n",
              "      <td>1.000000</td>\n",
              "      <td>-0.301754</td>\n",
              "      <td>0.786395</td>\n",
              "      <td>-0.112281</td>\n",
              "    </tr>\n",
              "    <tr>\n",
              "      <th>Porcentagem de esgotamento</th>\n",
              "      <td>-0.301754</td>\n",
              "      <td>1.000000</td>\n",
              "      <td>-0.163570</td>\n",
              "      <td>0.717544</td>\n",
              "    </tr>\n",
              "    <tr>\n",
              "      <th>Temperatura media</th>\n",
              "      <td>0.786395</td>\n",
              "      <td>-0.163570</td>\n",
              "      <td>1.000000</td>\n",
              "      <td>-0.012582</td>\n",
              "    </tr>\n",
              "    <tr>\n",
              "      <th>IDH</th>\n",
              "      <td>-0.112281</td>\n",
              "      <td>0.717544</td>\n",
              "      <td>-0.012582</td>\n",
              "      <td>1.000000</td>\n",
              "    </tr>\n",
              "  </tbody>\n",
              "</table>\n",
              "</div>"
            ],
            "text/plain": [
              "                            Total casos norm  ...       IDH\n",
              "Total casos norm                    1.000000  ... -0.112281\n",
              "Porcentagem de esgotamento         -0.301754  ...  0.717544\n",
              "Temperatura media                   0.786395  ... -0.012582\n",
              "IDH                                -0.112281  ...  1.000000\n",
              "\n",
              "[4 rows x 4 columns]"
            ]
          },
          "metadata": {
            "tags": []
          },
          "execution_count": 141
        }
      ]
    },
    {
      "cell_type": "markdown",
      "metadata": {
        "id": "KBUSp8linXon"
      },
      "source": [
        "Aplicando a correlação de Spearman nas demais, foi possível obter uma boa correlação entre os casos de dengue (já normalizados) e a temperatura média dos municípios, dos anos de 2014 à 2020, com 79%.\n",
        "\n",
        "Já o idh não teve uma boa correlação, obtendo aproximadamente 11% e, por causa disso, resolvemos retirá-lo também.\n",
        "\n",
        "O esgotamento, por sua vez, obteve 30% de correlação e será explorado a seguir."
      ]
    },
    {
      "cell_type": "markdown",
      "metadata": {
        "id": "0AYw3mxDktY4"
      },
      "source": [
        "## Relação entre os casos de dengue e esgotamento"
      ]
    },
    {
      "cell_type": "markdown",
      "metadata": {
        "id": "gdcW2fdnnkwh"
      },
      "source": [
        "Acredita-se que a variável de esgotamento obteve uma correlação razoável, mas que ela influencia significativamente nos casos, e para representar isso, foi criado o gráfico a seguir."
      ]
    },
    {
      "cell_type": "code",
      "metadata": {
        "id": "YTbvvt6AHU8F"
      },
      "source": [
        "pop_idh_esg = pd.read_csv('/content/drive/MyDrive/trabalho1CD/dados_teste/casos_idh_esgotamento_temp.csv', sep = ';', encoding = 'latin-1')"
      ],
      "execution_count": null,
      "outputs": []
    },
    {
      "cell_type": "code",
      "metadata": {
        "colab": {
          "base_uri": "https://localhost:8080/",
          "height": 531
        },
        "id": "eGzehWk2Z5f3",
        "outputId": "f34c2667-3e52-4e37-9ce2-9ce0c6c2487c"
      },
      "source": [
        "municipios = pop_idh_esg['Municípios']\n",
        "casos = pop_idh_esg['Total casos norm']\n",
        "esgotamento = pop_idh_esg['Porcentagem de esgotamento']\n",
        "\n",
        "fig, ax1 = plt.subplots()\n",
        "\n",
        "ax1.set_xlabel('Municípios')\n",
        "ax1.set_ylabel('Casos de dengue', color='purple')\n",
        "ax1.bar(municipios, casos, color='mediumorchid', width=0.8, align='center')\n",
        "ax1.tick_params(axis='y', labelcolor='purple')\n",
        "plt.xticks(rotation='vertical')\n",
        "\n",
        "ax2 = ax1.twinx()\n",
        "\n",
        "ax2.set_ylabel('Esgotamento adequado', color='green') \n",
        "ax2.plot(esgotamento, marker='*', markersize=8, linestyle=' ', linewidth=2, color='green')\n",
        "ax2.tick_params(axis='y', labelcolor='green')\n",
        "\n",
        "fig.tight_layout() \n",
        "plt.title('Relação entre Casos de Dengue e Esgotamento Adequado', fontsize=15)\n",
        "plt.show()"
      ],
      "execution_count": null,
      "outputs": [
        {
          "output_type": "display_data",
          "data": {
            "image/png": "[encoded data removed]",
            "text/plain": [
              "<Figure size 864x504 with 2 Axes>"
            ]
          },
          "metadata": {
            "tags": [],
            "needs_background": "light"
          }
        }
      ]
    },
    {
      "cell_type": "markdown",
      "metadata": {
        "id": "QrE6aN0W03Pt"
      },
      "source": [
        "O gráfico mostra os casos de dengue e a porcentagem de esgotamento adequado de cada um dos 19 municípios. Quanto mais adequado é o esgotamento da cidade, menor são os casos, como em Curitiba, que possui a maior porcentagem e um dos menores casos. Seguindo a mesma lógica, Diamante do Norte e Icaraíma possuem a porcentagem bem baixa, obtendo casos extremamente altos.\n",
        "\n",
        "Já municípios como Foz do Iguaçu, Londrina e Paranaguá não se enquadram nessa relação: eles possuem boas condições de esgotamento, mas altos casos de dengue. Acreditamos que a justificativa seria pelo fato dessas cidades possuírem o clima mais propício para a proliferação da dengue, pois têm altas temperaturas."
      ]
    },
    {
      "cell_type": "markdown",
      "metadata": {
        "id": "SRA3I5W14cJE"
      },
      "source": [
        "# Distância Euclidiana"
      ]
    },
    {
      "cell_type": "markdown",
      "metadata": {
        "id": "ufOL9KA58qc6"
      },
      "source": [
        "Foi feito também o calculo da distância euclidiana entre a temperatura média e os casos de dengue de alguns municípios em relação a Foz do Iguaçu, para mostrar que quanto mais próxima a temperatura de uma cidade é de Foz do Iguaçu, mais próximo é o número de casos.\n",
        "\n",
        "Os municípios selecionados foram Curitiba, Colombo, Irati, Londrina e Maringá."
      ]
    },
    {
      "cell_type": "code",
      "metadata": {
        "id": "dASr6wxgnmDx"
      },
      "source": [
        "fozdoiguacu_temp_media = pd.read_csv('/content/drive/MyDrive/trabalho1CD/dados_temp_media/fozdoiguacu_temp_media.csv', sep = ';', encoding = 'latin-1')\n",
        "# fozdoiguacu_temp_media"
      ],
      "execution_count": null,
      "outputs": []
    },
    {
      "cell_type": "code",
      "metadata": {
        "id": "YBuFYc3aornF"
      },
      "source": [
        "curitiba_temp_media = pd.read_csv('/content/drive/MyDrive/trabalho1CD/dados_temp_media/curitiba_temp_media.csv', sep = ';', encoding = 'latin-1')\n",
        "# curitiba_temp_media"
      ],
      "execution_count": null,
      "outputs": []
    },
    {
      "cell_type": "code",
      "metadata": {
        "id": "0nhhkA1w1oiH"
      },
      "source": [
        "londrina_temp_media = pd.read_csv('/content/drive/MyDrive/trabalho1CD/dados_temp_media/londrina_temp_media.csv', sep = ';', encoding = 'latin-1')\n",
        "# londrina_temp_media"
      ],
      "execution_count": null,
      "outputs": []
    },
    {
      "cell_type": "code",
      "metadata": {
        "id": "LHcnIv4HbnTe"
      },
      "source": [
        "maringa_temp_media = pd.read_csv('/content/drive/MyDrive/trabalho1CD/dados_temp_media/maringa_temp_media.csv', sep = ';', encoding = 'latin-1')\n",
        "# maringa_temp_media"
      ],
      "execution_count": null,
      "outputs": []
    },
    {
      "cell_type": "code",
      "metadata": {
        "id": "5MY4qQ_PaVJx"
      },
      "source": [
        "irati_temp_media = pd.read_csv('/content/drive/MyDrive/trabalho1CD/dados_temp_media/irati_temp_media.csv', sep = ';', encoding = 'latin-1')\n",
        "# irati_temp_media"
      ],
      "execution_count": null,
      "outputs": []
    },
    {
      "cell_type": "code",
      "metadata": {
        "id": "JX6LmCbTeld8"
      },
      "source": [
        "colombo_temp_media = pd.read_csv('/content/drive/MyDrive/trabalho1CD/dados_temp_media/colombo_temp_media.csv', sep = ';', encoding = 'latin-1')\n",
        "# colombo_temp_media"
      ],
      "execution_count": null,
      "outputs": []
    },
    {
      "cell_type": "code",
      "metadata": {
        "id": "znk6mwLLTJ77"
      },
      "source": [
        "total_cidades_top5 = pd.read_csv('/content/drive/MyDrive/trabalho1CD/total_cidades_top5.csv', sep = ';', encoding = 'latin-1')\n",
        "fozdoiguacu_casos_total = total_cidades_top5['Foz do Iguaçu'][7:]"
      ],
      "execution_count": null,
      "outputs": []
    },
    {
      "cell_type": "code",
      "metadata": {
        "id": "07yugCK3YBCb"
      },
      "source": [
        "# casos de dengue total de londrina:\n",
        "londrina_casos_total = 5135\n",
        "\n",
        "# casos de dengue total de maringa:\n",
        "maringa_casos_total = 4044\n",
        "\n",
        "# casos de dengue total de curitiba:\n",
        "curitiba_casos_total = 83\n",
        "\n",
        "# casos de dengue total de colombo:\n",
        "colombo_casos_total = 101\n",
        "\n",
        "# casos de dengue total de irati:\n",
        "irati_casos_total = 28\n",
        "\n",
        "# casos de dengue total de foz:\n",
        "fozdoiguacu_casos_total = 13155"
      ],
      "execution_count": null,
      "outputs": []
    },
    {
      "cell_type": "code",
      "metadata": {
        "colab": {
          "base_uri": "https://localhost:8080/"
        },
        "id": "P8NoJK45O4R6",
        "outputId": "f136d96a-3dfc-4961-db6c-b9e1ef7e75b3"
      },
      "source": [
        "# distância euclidiana da temperatura média de curitiba com foz:\n",
        "a_min_b = fozdoiguacu_temp_media-curitiba_temp_media\n",
        "dist_euclid_curitiba = np.sqrt(np.einsum('ij,ij->j', a_min_b, a_min_b))\n",
        "dist_euclid_curitiba"
      ],
      "execution_count": null,
      "outputs": [
        {
          "output_type": "execute_result",
          "data": {
            "text/plain": [
              "array([10.77032961, 11.04536102,  7.74596669,  8.71779789,  8.30662386,\n",
              "        6.32455532,  5.65685425,  7.87400787, 10.09950494, 14.52583905,\n",
              "       14.        , 10.95445115])"
            ]
          },
          "metadata": {
            "tags": []
          },
          "execution_count": 38
        }
      ]
    },
    {
      "cell_type": "code",
      "metadata": {
        "colab": {
          "base_uri": "https://localhost:8080/"
        },
        "id": "nKvy41_fP9kA",
        "outputId": "5a2e2814-ad36-4921-e179-912283cc98cd"
      },
      "source": [
        "# distância euclidiana da temperatura média de londrina com foz:\n",
        "a_min_b = fozdoiguacu_temp_media-londrina_temp_media\n",
        "dist_euclid_londrina = np.sqrt(np.einsum('ij,ij->j', a_min_b, a_min_b))\n",
        "dist_euclid_londrina"
      ],
      "execution_count": null,
      "outputs": [
        {
          "output_type": "execute_result",
          "data": {
            "text/plain": [
              "array([2.        , 2.64575131, 4.24264069, 3.60555128, 2.44948974,\n",
              "       3.        , 2.82842712, 2.64575131, 3.31662479, 4.        ,\n",
              "       2.44948974, 1.73205081])"
            ]
          },
          "metadata": {
            "tags": []
          },
          "execution_count": 39
        }
      ]
    },
    {
      "cell_type": "code",
      "metadata": {
        "colab": {
          "base_uri": "https://localhost:8080/"
        },
        "id": "tglaQzgmbiN3",
        "outputId": "1fc9b14e-6ce2-4c25-fe98-ec346511b6df"
      },
      "source": [
        "# distância euclidiana da temperatura média de maringa com foz:\n",
        "a_min_b = fozdoiguacu_temp_media-maringa_temp_media\n",
        "dist_euclid_maringa = np.sqrt(np.einsum('ij,ij->j', a_min_b, a_min_b))\n",
        "dist_euclid_maringa"
      ],
      "execution_count": null,
      "outputs": [
        {
          "output_type": "execute_result",
          "data": {
            "text/plain": [
              "array([2.23606798, 2.23606798, 4.24264069, 4.        , 4.47213595,\n",
              "       4.79583152, 6.        , 6.08276253, 5.83095189, 4.        ,\n",
              "       3.31662479, 1.73205081])"
            ]
          },
          "metadata": {
            "tags": []
          },
          "execution_count": 40
        }
      ]
    },
    {
      "cell_type": "code",
      "metadata": {
        "colab": {
          "base_uri": "https://localhost:8080/"
        },
        "id": "EdEo2YbqfSpF",
        "outputId": "3734b268-f371-426c-c542-88d632486b0e"
      },
      "source": [
        "# distância euclidiana da temperatura média de colombo com foz:\n",
        "a_min_b = fozdoiguacu_temp_media-colombo_temp_media\n",
        "dist_euclid_colombo = np.sqrt(np.einsum('ij,ij->j', a_min_b, a_min_b))\n",
        "dist_euclid_colombo"
      ],
      "execution_count": null,
      "outputs": [
        {
          "output_type": "execute_result",
          "data": {
            "text/plain": [
              "array([11.13552873, 11.22497216,  8.        , 10.        , 10.67707825,\n",
              "        9.59166305,  9.43398113, 11.04536102, 12.20655562, 16.15549442,\n",
              "       15.23154621, 11.44552314])"
            ]
          },
          "metadata": {
            "tags": []
          },
          "execution_count": 41
        }
      ]
    },
    {
      "cell_type": "code",
      "metadata": {
        "colab": {
          "base_uri": "https://localhost:8080/"
        },
        "id": "dR4ic5xHfTR6",
        "outputId": "a892011e-eaa8-4a4a-9ef9-fc544ea80c80"
      },
      "source": [
        "# distância euclidiana da temperatura média de irati com foz:\n",
        "a_min_b = fozdoiguacu_temp_media-irati_temp_media\n",
        "dist_euclid_irati = np.sqrt(np.einsum('ij,ij->j', a_min_b, a_min_b))\n",
        "dist_euclid_irati"
      ],
      "execution_count": null,
      "outputs": [
        {
          "output_type": "execute_result",
          "data": {
            "text/plain": [
              "array([11.        , 11.09053651,  8.06225775, 11.35781669, 12.80624847,\n",
              "       10.77032961, 11.74734012, 12.60952021, 11.26942767, 14.35270009,\n",
              "       11.44552314, 10.19803903])"
            ]
          },
          "metadata": {
            "tags": []
          },
          "execution_count": 42
        }
      ]
    },
    {
      "cell_type": "code",
      "metadata": {
        "id": "lTKdvGXPVavb"
      },
      "source": [
        "# array com as médias da distância euclidiana de foz com os municípios:\n",
        "dist_eclid = [dist_euclid_curitiba, dist_euclid_colombo, dist_euclid_irati, dist_euclid_maringa, dist_euclid_londrina]\n",
        "\n",
        "# array de casos de dengue total dos municípios: \n",
        "casos_dengue_total = [curitiba_casos_total, colombo_casos_total, irati_casos_total, maringa_casos_total, londrina_casos_total]"
      ],
      "execution_count": null,
      "outputs": []
    },
    {
      "cell_type": "code",
      "metadata": {
        "id": "a0u44wbaXh-2"
      },
      "source": [
        "# média da distância euclidiana de foz com curitiba:\n",
        "dist_euclid_curitiba = dist_euclid_curitiba.mean()\n",
        "\n",
        "# média da distância euclidiana de foz com londrina:\n",
        "dist_euclid_londrina = dist_euclid_londrina.mean()\n",
        "\n",
        "# média da distância euclidiana de foz com londrina:\n",
        "dist_euclid_maringa = dist_euclid_maringa.mean()\n",
        "\n",
        "# média da distância euclidiana de foz com colombo:\n",
        "dist_euclid_colombo = dist_euclid_colombo.mean()\n",
        "\n",
        "# média da distância euclidiana de foz com irati:\n",
        "dist_euclid_irati = dist_euclid_irati.mean()"
      ],
      "execution_count": null,
      "outputs": []
    },
    {
      "cell_type": "code",
      "metadata": {
        "colab": {
          "base_uri": "https://localhost:8080/",
          "height": 464
        },
        "id": "6kH-awpYSZCv",
        "outputId": "052c669c-514f-4324-8e1a-a7d7077908d5"
      },
      "source": [
        "colors = ['blue', 'magenta', 'orange', 'purple', 'green']\n",
        "\n",
        "curitiba = plt.scatter(dist_euclid_curitiba, curitiba_casos_total, color=colors[0], s=100)\n",
        "colombo = plt.scatter(dist_euclid_colombo, colombo_casos_total, color=colors[1], s=100)\n",
        "irati = plt.scatter(dist_euclid_irati, irati_casos_total, color=colors[2], s=100)\n",
        "maringa = plt.scatter(dist_euclid_maringa, maringa_casos_total, color=colors[3], s=100)\n",
        "londrina = plt.scatter(dist_euclid_londrina, londrina_casos_total, color=colors[4], s=100)\n",
        "\n",
        "plt.legend((curitiba, colombo, irati, maringa, londrina), ('Curitiba', 'Colombo', 'Irati', 'Maringá', 'Londrina'), loc='upper right', ncol=1, fontsize=12)\n",
        "\n",
        "plt.title('Número de Casos e Distância Euclidiana dos Municípios em Relação à Foz do Iguaçu', fontsize=15)\n",
        "\n",
        "plt.ylabel('Número de Casos', fontsize=12)\n",
        "plt.xlabel('Distância Euclidiana', fontsize=12)\n",
        "\n",
        "plt.text(x=2.6, y=13155, s=\"Foz: 13155\", color='r')\n",
        "plt.axhline(13155, linewidth=2, color='r')\n",
        "\n",
        "plt.rcParams['figure.figsize'] = (12,7) # escala do gráfico\n",
        "\n",
        "plt.show()"
      ],
      "execution_count": null,
      "outputs": [
        {
          "output_type": "display_data",
          "data": {
            "image/png": "[encoded data removed]",
            "text/plain": [
              "<Figure size 864x504 with 1 Axes>"
            ]
          },
          "metadata": {
            "tags": [],
            "needs_background": "light"
          }
        }
      ]
    },
    {
      "cell_type": "markdown",
      "metadata": {
        "id": "XAbI3f0SwQ-T"
      },
      "source": [
        "No gráfico, cada ponto é representado por um município, e quanto mais próximo à zero no eixo x, mais próximo é a temperatura média daquele município em relação à Foz. A temperatura de Londrina, por exemplo, é quase igual a de Foz, e o número de casos é relativamente alto se comparado aos outros. Já Colombo e Irati têm a temperatura totalmente diferente de Foz, e os casos são muito baixos.\n",
        "\n",
        "Desse modo, é possível notar que a relação é coerente."
      ]
    },
    {
      "cell_type": "markdown",
      "metadata": {
        "id": "fAX7eiyIaTJJ"
      },
      "source": [
        "# Regressão Linear Simples"
      ]
    },
    {
      "cell_type": "code",
      "metadata": {
        "colab": {
          "base_uri": "https://localhost:8080/",
          "height": 400
        },
        "id": "t2E_O53RRN7v",
        "outputId": "0fa38393-f97c-46ca-ffb0-aecaff875435"
      },
      "source": [
        "import seaborn as sns\n",
        "\n",
        "sns.lmplot(x='Temperatura media', y='Total casos norm', data=pop_idh_esg, markers='o')"
      ],
      "execution_count": null,
      "outputs": [
        {
          "output_type": "execute_result",
          "data": {
            "text/plain": [
              "<seaborn.axisgrid.FacetGrid at 0x7f5f23d88190>"
            ]
          },
          "metadata": {
            "tags": []
          },
          "execution_count": 24
        },
        {
          "output_type": "display_data",
          "data": {
            "image/png": "[encoded data removed]",
            "text/plain": [
              "<Figure size 360x360 with 1 Axes>"
            ]
          },
          "metadata": {
            "tags": [],
            "needs_background": "light"
          }
        }
      ]
    },
    {
      "cell_type": "markdown",
      "metadata": {
        "id": "y1r8X0XMaQ7z"
      },
      "source": [
        "Fazendo a regressão linear simples do total de casos de dengue e a temperatura média de cada município, do ano de 2014 à 2020, percebe-se que há uma relação linear entre as duas variáveis: quanto maior a temperatura, maior o número de casos. Mas essa relação não é totalmente congruente, pois alguns pontos estão dispersos da reta."
      ]
    },
    {
      "cell_type": "markdown",
      "metadata": {
        "id": "l9kZ-07In-SQ"
      },
      "source": [
        "# Regressão Linear por Mínimos Quadrados Ordinários (MQO/OLS)\n",
        "\n",
        "Durante o trabalho foram pesquisados métodos e conceitos de estatísticas para visualizar melhor o comportamento dos dados. Outro método escolhido foi **Regressão Linear por Mínimos Quadrados Ordinários (MQO) .**\n",
        "\n",
        "O método de estimação dos Mínimos Quadrados Orginários do inglês Ordinary Least Squares - OLS, é uma método de otimização que procura o melhor ajusto do modelo através da minimização dos quadrados do erro da regressão [4].\n",
        "\n",
        "É um método muito utilizada como método de previsão e tem como objetivo principal verificar como determinadas variáveis de interesse influenciam em uma variável de resposta [3].\n",
        " \n",
        "No entanto, o MQO tem alguns requisitos que precisam ser respeitados, caso contrário, os resultados tentem a ficar enviesados. Sende um desses requisitos:\n",
        "\n",
        "A relação entre a variável resposta e os preditores ser linear. \n",
        "\n",
        "Os dados utilizados nesse trabalho não são totalmente lineares, pois há algumas exceções que mudam o comportamento dos dados, e esse fator refletiu diretamente nos resultados, como será apresentado a seguir. \n",
        "\n",
        "A regressão linear é uma técnica de análise estatística que possibilia estimar o valor de uma determinada variável resposta (variável dependente) como função de outras variáveis preditoras (variáveis independentes).\n",
        "\n",
        "Para estimar o modelo utilizamos a biblioteca **Statsmodels.api** e chamamos a função **.ols**\n",
        "\n",
        "Dados utilizados para a Regressão MQO:\n",
        "\n",
        "Tabela: casos_idh_esgotamento_temp.csv\n",
        "\n",
        "Dados:\n",
        "*   Temperatura média de 2014 à 2020 de cada Município\n",
        "*   Total de Casos de Dengue de cada município, normalizado para 100 mil habitantes. \n",
        "\n",
        "Como:\n",
        "\n",
        "**Variável dependente:** utilizamos a coluna 'Total de Casos de Dengue'.\n",
        "\n",
        "**Variável independente:** utilizamos a coluna 'Temperatura Média'.\n",
        "\n",
        "Segundo a definição, deve-se colocar como **'Variável dependente'** o que quer prever.\n",
        "\n",
        "Objetivo: dada a temperatura média de cada município de 2014 a 2020 e o total de casos de dengue normalizado para cada munícípio, o objetivo era verificar como a temperatura influencia nos casos de dengue. \n"
      ]
    },
    {
      "cell_type": "code",
      "metadata": {
        "id": "jETz6SxkmBYR",
        "colab": {
          "base_uri": "https://localhost:8080/",
          "height": 204
        },
        "outputId": "718bda4f-f258-4d55-9150-31a7678ee194"
      },
      "source": [
        "# verificando se foi lido corretamente o arquivo casos_idh_esgotamento_temp.csv\n",
        "pop_idh_esg.head()"
      ],
      "execution_count": null,
      "outputs": [
        {
          "output_type": "execute_result",
          "data": {
            "text/html": [
              "<div>\n",
              "<style scoped>\n",
              "    .dataframe tbody tr th:only-of-type {\n",
              "        vertical-align: middle;\n",
              "    }\n",
              "\n",
              "    .dataframe tbody tr th {\n",
              "        vertical-align: top;\n",
              "    }\n",
              "\n",
              "    .dataframe thead th {\n",
              "        text-align: right;\n",
              "    }\n",
              "</style>\n",
              "<table border=\"1\" class=\"dataframe\">\n",
              "  <thead>\n",
              "    <tr style=\"text-align: right;\">\n",
              "      <th></th>\n",
              "      <th>Municípios</th>\n",
              "      <th>Total casos norm</th>\n",
              "      <th>Porcentagem de esgotamento</th>\n",
              "      <th>Temperatura media</th>\n",
              "      <th>IDH</th>\n",
              "    </tr>\n",
              "  </thead>\n",
              "  <tbody>\n",
              "    <tr>\n",
              "      <th>0</th>\n",
              "      <td>Cidade Gaucha</td>\n",
              "      <td>3339</td>\n",
              "      <td>0.664</td>\n",
              "      <td>23</td>\n",
              "      <td>0.718</td>\n",
              "    </tr>\n",
              "    <tr>\n",
              "      <th>1</th>\n",
              "      <td>Colombo</td>\n",
              "      <td>101</td>\n",
              "      <td>0.813</td>\n",
              "      <td>18</td>\n",
              "      <td>0.733</td>\n",
              "    </tr>\n",
              "    <tr>\n",
              "      <th>2</th>\n",
              "      <td>Curitiba</td>\n",
              "      <td>83</td>\n",
              "      <td>0.963</td>\n",
              "      <td>18</td>\n",
              "      <td>0.823</td>\n",
              "    </tr>\n",
              "    <tr>\n",
              "      <th>3</th>\n",
              "      <td>Diamante do Norte</td>\n",
              "      <td>15586</td>\n",
              "      <td>0.147</td>\n",
              "      <td>23</td>\n",
              "      <td>0.723</td>\n",
              "    </tr>\n",
              "    <tr>\n",
              "      <th>4</th>\n",
              "      <td>Dois Vizinhos</td>\n",
              "      <td>697</td>\n",
              "      <td>0.458</td>\n",
              "      <td>21</td>\n",
              "      <td>0.767</td>\n",
              "    </tr>\n",
              "  </tbody>\n",
              "</table>\n",
              "</div>"
            ],
            "text/plain": [
              "          Municípios  Total casos norm  ...  Temperatura media    IDH\n",
              "0      Cidade Gaucha              3339  ...                 23  0.718\n",
              "1            Colombo               101  ...                 18  0.733\n",
              "2           Curitiba                83  ...                 18  0.823\n",
              "3  Diamante do Norte             15586  ...                 23  0.723\n",
              "4      Dois Vizinhos               697  ...                 21  0.767\n",
              "\n",
              "[5 rows x 5 columns]"
            ]
          },
          "metadata": {
            "tags": []
          },
          "execution_count": 17
        }
      ]
    },
    {
      "cell_type": "code",
      "metadata": {
        "id": "HU6FVL8DoFKJ"
      },
      "source": [
        "#importante a biblioteca e setando as variáveis que vamos utilizar na chamada da função OLS\n",
        "import statsmodels.api as sm\n",
        "\n",
        "totalcasos = pop_idh_esg['Total casos norm'] #y\n",
        "temperaturamedia = sm.add_constant(pop_idh_esg['Temperatura media']) #x"
      ],
      "execution_count": null,
      "outputs": []
    },
    {
      "cell_type": "code",
      "metadata": {
        "id": "4TUg0ELnpsGx",
        "colab": {
          "base_uri": "https://localhost:8080/"
        },
        "outputId": "a51c57b6-e2d4-4935-eddb-c79e6a726727"
      },
      "source": [
        "# chamada da função da Regressão, OLS de Ordinary Least Squares\n",
        "regressao_norm = sm.OLS(totalcasos, temperaturamedia).fit()\n",
        "print(regressao_norm.summary2())"
      ],
      "execution_count": null,
      "outputs": [
        {
          "output_type": "stream",
          "text": [
            "                       Results: Ordinary least squares\n",
            "==============================================================================\n",
            "Model:                   OLS                 Adj. R-squared:        0.327     \n",
            "Dependent Variable:      Total casos norm    AIC:                   377.1322  \n",
            "Date:                    2021-04-25 23:29    BIC:                   379.0211  \n",
            "No. Observations:        19                  Log-Likelihood:        -186.57   \n",
            "Df Model:                1                   F-statistic:           9.744     \n",
            "Df Residuals:            17                  Prob (F-statistic):    0.00621   \n",
            "R-squared:               0.364               Scale:                 2.2118e+07\n",
            "------------------------------------------------------------------------------\n",
            "                     Coef.     Std.Err.     t    P>|t|     [0.025     0.975]  \n",
            "------------------------------------------------------------------------------\n",
            "const             -31809.4525 11712.2631 -2.7159 0.0147 -56520.1677 -7098.7374\n",
            "Temperatura media   1716.3216   549.8431  3.1215 0.0062    556.2540  2876.3892\n",
            "------------------------------------------------------------------------------\n",
            "Omnibus:                   2.245            Durbin-Watson:               1.849\n",
            "Prob(Omnibus):             0.325            Jarque-Bera (JB):            1.822\n",
            "Skew:                      0.651            Prob(JB):                    0.402\n",
            "Kurtosis:                  2.222            Condition No.:               232  \n",
            "==============================================================================\n",
            "\n"
          ],
          "name": "stdout"
        },
        {
          "output_type": "stream",
          "text": [
            "/usr/local/lib/python3.7/dist-packages/scipy/stats/stats.py:1535: UserWarning:\n",
            "\n",
            "kurtosistest only valid for n>=20 ... continuing anyway, n=19\n",
            "\n"
          ],
          "name": "stderr"
        }
      ]
    },
    {
      "cell_type": "markdown",
      "metadata": {
        "id": "8aixnCj7_xNQ"
      },
      "source": [
        "Explicando algumas variáveis importantes da *table* resultado.\n",
        "\n",
        " \n",
        "\n",
        "*   R-squared: R é a medida de quanto temperatura média é explicado por mudanças em total de casos\n",
        "\n",
        "Por exemplo, nosso modelo explica 0.364, ou seja, 36,4% da mudança da variável 'Total de Casos'\n",
        "\n",
        "*   P > |t| usa a **estatística t** para produzir o **valor p**. Uma medida da probabilidade de seu coeficiente ser medido por meio de nosso modelo por acaso. \n",
        "\n",
        "Significa que a temperatura média tem 0.0062 (0,6%)  de chance de **não afetar** a variável dependente, que seria o número de Total de Casos. Ou seja, a porcentagem de chance de não afetar é baixíssima, em outras palavras, a temperatura **tem** chance de afetar o número total de casos, isto é, influenciar no número de casos."
      ]
    },
    {
      "cell_type": "markdown",
      "metadata": {
        "id": "Ws7iwHoc86um"
      },
      "source": [
        "# Referência\n",
        "[1] Disponível em: <http://joinville.ifsc.edu.br/~joni.fusinato/GH%20-%20EST22/Aulas/Aula%202%20-%20Indicadores,%20taxas%20e%20coeficientes.pdf>. Acesso em: 24 abr. 2021.\n",
        "\n",
        "[2] Disponível em: <https://cidades.ibge.gov.br/brasil/pr/panorama>. Acesso em: 9 abr. 2021.\n",
        "\n",
        "[3] SILVA. Uma visão geral sobre machine learning - Regressão e Clustering - Oper. Disponível em: <https://operdata.com.br/blog/uma-visao-geral-sobre-machine-learning-regressao-clustering/#:~:text=A%20Regress%C3%A3o%20%C3%A9%20um%20dos,valores%20de%20vari%C3%A1veis%20preditoras%20X.>. Acesso em: 25 abr. 2021.\n",
        "\n",
        "[4]NEYLSON CREPALDE. Regressão Linear com Python. Disponível em: <https://neylsoncrepalde.github.io/2018-02-25-regressao-linear-python/>. Acesso em: 25 abr. 2021"
      ]
    }
  ]
}